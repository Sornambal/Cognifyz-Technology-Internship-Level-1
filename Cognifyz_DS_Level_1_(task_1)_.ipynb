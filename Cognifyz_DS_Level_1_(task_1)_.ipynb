{
  "nbformat": 4,
  "nbformat_minor": 0,
  "metadata": {
    "colab": {
      "provenance": [],
      "authorship_tag": "ABX9TyMSzJgT34ep37Vv4bq/fdXt",
      "include_colab_link": true
    },
    "kernelspec": {
      "name": "python3",
      "display_name": "Python 3"
    },
    "language_info": {
      "name": "python"
    }
  },
  "cells": [
    {
      "cell_type": "markdown",
      "metadata": {
        "id": "view-in-github",
        "colab_type": "text"
      },
      "source": [
        "<a href=\"https://colab.research.google.com/github/Sornambal/Cognifyz-Technology-Internship-Level-1/blob/main/Cognifyz_DS_Level_1_(task_1)_.ipynb\" target=\"_parent\"><img src=\"https://colab.research.google.com/assets/colab-badge.svg\" alt=\"Open In Colab\"/></a>"
      ]
    },
    {
      "cell_type": "code",
      "source": [
        "import pandas as pd\n",
        "import matplotlib.pyplot as plt\n",
        "import seaborn as sns"
      ],
      "metadata": {
        "id": "sghl7cDqt05B"
      },
      "execution_count": 13,
      "outputs": []
    },
    {
      "cell_type": "code",
      "source": [
        "# Load dataset\n",
        "df = pd.read_csv(\"/content/Dataset .csv\")"
      ],
      "metadata": {
        "id": "8WIHt9H5t01i"
      },
      "execution_count": 5,
      "outputs": []
    },
    {
      "cell_type": "code",
      "source": [
        "# 1. Display number of rows and columns\n",
        "print(f\"Dataset Shape: {df.shape[0]} rows, {df.shape[1]} columns\")"
      ],
      "metadata": {
        "colab": {
          "base_uri": "https://localhost:8080/"
        },
        "id": "kqabls_Jt0yn",
        "outputId": "b385cb89-e016-41f2-9369-c3457dba550d"
      },
      "execution_count": 6,
      "outputs": [
        {
          "output_type": "stream",
          "name": "stdout",
          "text": [
            "Dataset Shape: 9551 rows, 21 columns\n"
          ]
        }
      ]
    },
    {
      "cell_type": "code",
      "source": [
        "# 2. Check for missing values\n",
        "print(\"\\nMissing Values in Each Column:\")\n",
        "print(df.isnull().sum())"
      ],
      "metadata": {
        "colab": {
          "base_uri": "https://localhost:8080/"
        },
        "id": "Z4OjPgUst0vk",
        "outputId": "50cec539-94e6-4edc-f885-a9de17f02e79"
      },
      "execution_count": 7,
      "outputs": [
        {
          "output_type": "stream",
          "name": "stdout",
          "text": [
            "\n",
            "Missing Values in Each Column:\n",
            "Restaurant ID           0\n",
            "Restaurant Name         0\n",
            "Country Code            0\n",
            "City                    0\n",
            "Address                 0\n",
            "Locality                0\n",
            "Locality Verbose        0\n",
            "Longitude               0\n",
            "Latitude                0\n",
            "Cuisines                9\n",
            "Average Cost for two    0\n",
            "Currency                0\n",
            "Has Table booking       0\n",
            "Has Online delivery     0\n",
            "Is delivering now       0\n",
            "Switch to order menu    0\n",
            "Price range             0\n",
            "Aggregate rating        0\n",
            "Rating color            0\n",
            "Rating text             0\n",
            "Votes                   0\n",
            "dtype: int64\n"
          ]
        }
      ]
    },
    {
      "cell_type": "code",
      "source": [
        "# 3. Handle missing values (filling 'Cuisines' with 'Unknown')\n",
        "df[\"Cuisines\"].fillna(\"Unknown\", inplace=True)"
      ],
      "metadata": {
        "colab": {
          "base_uri": "https://localhost:8080/"
        },
        "id": "4FtMNP5Ut0sb",
        "outputId": "e45a736f-3cd8-486c-c1d4-51ef7902e779"
      },
      "execution_count": 8,
      "outputs": [
        {
          "output_type": "stream",
          "name": "stderr",
          "text": [
            "<ipython-input-8-1771487904>:2: FutureWarning: A value is trying to be set on a copy of a DataFrame or Series through chained assignment using an inplace method.\n",
            "The behavior will change in pandas 3.0. This inplace method will never work because the intermediate object on which we are setting values always behaves as a copy.\n",
            "\n",
            "For example, when doing 'df[col].method(value, inplace=True)', try using 'df.method({col: value}, inplace=True)' or df[col] = df[col].method(value) instead, to perform the operation inplace on the original object.\n",
            "\n",
            "\n",
            "  df[\"Cuisines\"].fillna(\"Unknown\", inplace=True)\n"
          ]
        }
      ]
    },
    {
      "cell_type": "code",
      "source": [
        "# 4. Check and display data types\n",
        "print(\"\\nData Types:\")\n",
        "print(df.dtypes)"
      ],
      "metadata": {
        "colab": {
          "base_uri": "https://localhost:8080/"
        },
        "id": "ZoFf5WmMuEyR",
        "outputId": "7c9e4d93-d1cd-4a99-d770-bd93e9a46763"
      },
      "execution_count": 9,
      "outputs": [
        {
          "output_type": "stream",
          "name": "stdout",
          "text": [
            "\n",
            "Data Types:\n",
            "Restaurant ID             int64\n",
            "Restaurant Name          object\n",
            "Country Code              int64\n",
            "City                     object\n",
            "Address                  object\n",
            "Locality                 object\n",
            "Locality Verbose         object\n",
            "Longitude               float64\n",
            "Latitude                float64\n",
            "Cuisines                 object\n",
            "Average Cost for two      int64\n",
            "Currency                 object\n",
            "Has Table booking        object\n",
            "Has Online delivery      object\n",
            "Is delivering now        object\n",
            "Switch to order menu     object\n",
            "Price range               int64\n",
            "Aggregate rating        float64\n",
            "Rating color             object\n",
            "Rating text              object\n",
            "Votes                     int64\n",
            "dtype: object\n"
          ]
        }
      ]
    },
    {
      "cell_type": "code",
      "source": [
        "# 5. Analyze distribution of target variable: 'Aggregate rating'\n",
        "print(\"\\nAggregate Rating Distribution:\")\n",
        "print(df['Aggregate rating'].value_counts().sort_index())"
      ],
      "metadata": {
        "colab": {
          "base_uri": "https://localhost:8080/"
        },
        "id": "XDEYErJluEux",
        "outputId": "b07a82df-5cb3-49ba-a2ba-eb5cb280d0e7"
      },
      "execution_count": 10,
      "outputs": [
        {
          "output_type": "stream",
          "name": "stdout",
          "text": [
            "\n",
            "Aggregate Rating Distribution:\n",
            "Aggregate rating\n",
            "0.0    2148\n",
            "1.8       1\n",
            "1.9       2\n",
            "2.0       7\n",
            "2.1      15\n",
            "2.2      27\n",
            "2.3      47\n",
            "2.4      87\n",
            "2.5     110\n",
            "2.6     191\n",
            "2.7     250\n",
            "2.8     315\n",
            "2.9     381\n",
            "3.0     468\n",
            "3.1     519\n",
            "3.2     522\n",
            "3.3     483\n",
            "3.4     498\n",
            "3.5     480\n",
            "3.6     458\n",
            "3.7     427\n",
            "3.8     400\n",
            "3.9     335\n",
            "4.0     266\n",
            "4.1     274\n",
            "4.2     221\n",
            "4.3     174\n",
            "4.4     144\n",
            "4.5      95\n",
            "4.6      78\n",
            "4.7      42\n",
            "4.8      25\n",
            "4.9      61\n",
            "Name: count, dtype: int64\n"
          ]
        }
      ]
    },
    {
      "cell_type": "code",
      "source": [
        "# Visualize distribution\n",
        "plt.figure(figsize=(12,6))\n",
        "sns.countplot(data=df, x='Aggregate rating', order=sorted(df['Aggregate rating'].unique()))\n",
        "plt.title(\"Distribution of Aggregate Rating\")\n",
        "plt.xlabel(\"Aggregate Rating\")\n",
        "plt.ylabel(\"Count\")\n",
        "plt.xticks(rotation=45)\n",
        "plt.tight_layout()\n",
        "plt.show()"
      ],
      "metadata": {
        "colab": {
          "base_uri": "https://localhost:8080/",
          "height": 569
        },
        "id": "EGa5MpzruEr1",
        "outputId": "d8ce7165-9193-4f1a-c71f-e9ad4085f579"
      },
      "execution_count": 11,
      "outputs": [
        {
          "output_type": "display_data",
          "data": {
            "text/plain": [
              "<Figure size 1200x600 with 1 Axes>"
            ],
            "image/png": "[encoded data removed]"
          },
          "metadata": {}
        }
      ]
    },
    {
      "cell_type": "code",
      "source": [
        "# 6. Check for class imbalance\n",
        "rating_counts = df['Aggregate rating'].value_counts()\n",
        "zero_rating = rating_counts[0.0]\n",
        "total = df.shape[0]\n",
        "print(f\"\\nPercentage of '0.0' ratings: {zero_rating / total * 100:.2f}%\")\n",
        "\n",
        "if zero_rating / total > 0.2:\n",
        "    print(\"⚠️ Warning: High number of entries with 0.0 rating indicates class imbalance.\")\n"
      ],
      "metadata": {
        "colab": {
          "base_uri": "https://localhost:8080/"
        },
        "id": "pAUwIInVuEpA",
        "outputId": "c3f542ef-6bb6-49fd-d8fe-00a7f275d508"
      },
      "execution_count": 12,
      "outputs": [
        {
          "output_type": "stream",
          "name": "stdout",
          "text": [
            "\n",
            "Percentage of '0.0' ratings: 22.49%\n",
            "⚠️ Warning: High number of entries with 0.0 rating indicates class imbalance.\n"
          ]
        }
      ]
    }
  ]
}